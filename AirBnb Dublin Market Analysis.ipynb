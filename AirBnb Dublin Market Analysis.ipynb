{
 "cells": [
  {
   "cell_type": "markdown",
   "id": "89d80195",
   "metadata": {},
   "source": [
    "### Key questions\n",
    "\n",
    "**1. What guests are searching for in Dublin?**\n",
    "\n",
    "**2. Which inquiries hosts tend to accept?**\n",
    "\n",
    "**3. What the gaps are between guest demand and host supply that the new city manager could plug to increase the number of bookings in Dublin?**\n",
    "\n",
    "Based on the findings the new city manager will try to boost the number and quality of hosts in Dublin to fit the demands from guests. The goal of this challenge is to analyze, understand, visualize, and communicate the demand / supply in the market. For example you may want to look at the breakdown of start date day of the week, or number of nights, or room type that is searched for, and how many hosts accepted the reservation. In particular, we are interested in:\n",
    "\n",
    "\n",
    "What other data would be useful to have to deepen the analysis and understanding?"
   ]
  },
  {
   "cell_type": "code",
   "execution_count": 40,
   "id": "f4b135f9",
   "metadata": {},
   "outputs": [],
   "source": [
    "#Import libraries/dataset\n",
    "import pandas as pd\n",
    "import numpy as np\n",
    "import seaborn as sns\n",
    "import matplotlib.pyplot as plt\n",
    "\n",
    "#contacts_file = (\"contacts.tsv\")\n",
    "contacts = pd.read_csv('C:/Users/hwoo2/Desktop/pandas/AirBnB Dublin Market Assessment/contacts.tsv', sep=\"\\t\")\n",
    "\n",
    "#searches_file = (\"searches.tsv\")\n",
    "searches = pd.read_csv('C:/Users/hwoo2/Desktop/pandas/AirBnB Dublin Market Assessment/searches.tsv', sep=\"\\t\")"
   ]
  },
  {
   "cell_type": "code",
   "execution_count": 41,
   "id": "1e79123b",
   "metadata": {},
   "outputs": [
    {
     "name": "stdout",
     "output_type": "stream",
     "text": [
      "<class 'pandas.core.frame.DataFrame'>\n",
      "RangeIndex: 35737 entries, 0 to 35736\n",
      "Data columns (total 13 columns):\n",
      " #   Column                Non-Null Count  Dtype  \n",
      "---  ------                --------------  -----  \n",
      " 0   ds                    35737 non-null  object \n",
      " 1   id_user               35737 non-null  object \n",
      " 2   ds_checkin            23888 non-null  object \n",
      " 3   ds_checkout           23888 non-null  object \n",
      " 4   n_searches            35737 non-null  int64  \n",
      " 5   n_nights              23888 non-null  float64\n",
      " 6   n_guests_min          35737 non-null  int64  \n",
      " 7   n_guests_max          35737 non-null  int64  \n",
      " 8   origin_country        35737 non-null  object \n",
      " 9   filter_price_min      13322 non-null  float64\n",
      " 10  filter_price_max      13322 non-null  float64\n",
      " 11  filter_room_types     16191 non-null  object \n",
      " 12  filter_neighborhoods  1346 non-null   object \n",
      "dtypes: float64(3), int64(3), object(7)\n",
      "memory usage: 3.5+ MB\n"
     ]
    },
    {
     "data": {
      "text/html": [
       "<div>\n",
       "<style scoped>\n",
       "    .dataframe tbody tr th:only-of-type {\n",
       "        vertical-align: middle;\n",
       "    }\n",
       "\n",
       "    .dataframe tbody tr th {\n",
       "        vertical-align: top;\n",
       "    }\n",
       "\n",
       "    .dataframe thead th {\n",
       "        text-align: right;\n",
       "    }\n",
       "</style>\n",
       "<table border=\"1\" class=\"dataframe\">\n",
       "  <thead>\n",
       "    <tr style=\"text-align: right;\">\n",
       "      <th></th>\n",
       "      <th>ds</th>\n",
       "      <th>id_user</th>\n",
       "      <th>ds_checkin</th>\n",
       "      <th>ds_checkout</th>\n",
       "      <th>n_searches</th>\n",
       "      <th>n_nights</th>\n",
       "      <th>n_guests_min</th>\n",
       "      <th>n_guests_max</th>\n",
       "      <th>origin_country</th>\n",
       "      <th>filter_price_min</th>\n",
       "      <th>filter_price_max</th>\n",
       "      <th>filter_room_types</th>\n",
       "      <th>filter_neighborhoods</th>\n",
       "    </tr>\n",
       "  </thead>\n",
       "  <tbody>\n",
       "    <tr>\n",
       "      <th>26843</th>\n",
       "      <td>2014-10-11</td>\n",
       "      <td>e8f049d5-5f73-4bf9-bb12-2957229edf90</td>\n",
       "      <td>NaN</td>\n",
       "      <td>NaN</td>\n",
       "      <td>3</td>\n",
       "      <td>NaN</td>\n",
       "      <td>1</td>\n",
       "      <td>16</td>\n",
       "      <td>AT</td>\n",
       "      <td>NaN</td>\n",
       "      <td>NaN</td>\n",
       "      <td>,Entire home/apt</td>\n",
       "      <td>NaN</td>\n",
       "    </tr>\n",
       "    <tr>\n",
       "      <th>1376</th>\n",
       "      <td>2014-10-01</td>\n",
       "      <td>86a28708-745e-4f3e-aeb3-ef438abd6f9b</td>\n",
       "      <td>NaN</td>\n",
       "      <td>NaN</td>\n",
       "      <td>4</td>\n",
       "      <td>NaN</td>\n",
       "      <td>1</td>\n",
       "      <td>1</td>\n",
       "      <td>DE</td>\n",
       "      <td>NaN</td>\n",
       "      <td>NaN</td>\n",
       "      <td>NaN</td>\n",
       "      <td>NaN</td>\n",
       "    </tr>\n",
       "    <tr>\n",
       "      <th>31155</th>\n",
       "      <td>2014-10-13</td>\n",
       "      <td>7d25d396-bf80-4501-accf-5399a6046707</td>\n",
       "      <td>2014-12-29</td>\n",
       "      <td>2014-12-30</td>\n",
       "      <td>1</td>\n",
       "      <td>1.0</td>\n",
       "      <td>3</td>\n",
       "      <td>3</td>\n",
       "      <td>GB</td>\n",
       "      <td>NaN</td>\n",
       "      <td>NaN</td>\n",
       "      <td>Entire home/apt</td>\n",
       "      <td>NaN</td>\n",
       "    </tr>\n",
       "  </tbody>\n",
       "</table>\n",
       "</div>"
      ],
      "text/plain": [
       "               ds                               id_user  ds_checkin  \\\n",
       "26843  2014-10-11  e8f049d5-5f73-4bf9-bb12-2957229edf90         NaN   \n",
       "1376   2014-10-01  86a28708-745e-4f3e-aeb3-ef438abd6f9b         NaN   \n",
       "31155  2014-10-13  7d25d396-bf80-4501-accf-5399a6046707  2014-12-29   \n",
       "\n",
       "      ds_checkout  n_searches  n_nights  n_guests_min  n_guests_max  \\\n",
       "26843         NaN           3       NaN             1            16   \n",
       "1376          NaN           4       NaN             1             1   \n",
       "31155  2014-12-30           1       1.0             3             3   \n",
       "\n",
       "      origin_country  filter_price_min  filter_price_max filter_room_types  \\\n",
       "26843             AT               NaN               NaN  ,Entire home/apt   \n",
       "1376              DE               NaN               NaN               NaN   \n",
       "31155             GB               NaN               NaN   Entire home/apt   \n",
       "\n",
       "      filter_neighborhoods  \n",
       "26843                  NaN  \n",
       "1376                   NaN  \n",
       "31155                  NaN  "
      ]
     },
     "execution_count": 41,
     "metadata": {},
     "output_type": "execute_result"
    }
   ],
   "source": [
    "# undestand what table looks like\n",
    "searches.info()\n",
    "searches.sample(3)"
   ]
  },
  {
   "cell_type": "code",
   "execution_count": 42,
   "id": "e2299261",
   "metadata": {},
   "outputs": [],
   "source": [
    "#clean searches dataset\n",
    "\n",
    "searches['ds'] = pd.to_datetime(searches['ds'])\n",
    "searches['ds_checkin'] = pd.to_datetime(searches['ds_checkin'])\n",
    "searches['ds_checkout'] = pd.to_datetime(searches['ds_checkout'])\n",
    "searches['origin_country'] = searches['origin_country'].astype('category')\n",
    "searches['filter_room_types'] = searches['filter_room_types'].astype('category')\n"
   ]
  },
  {
   "cell_type": "markdown",
   "id": "f4d5f00f",
   "metadata": {},
   "source": [
    "### Searches table overview: In Dublin, people are more vague with their AirBnb stay plans, rather than having a clearly planned out vacation\n",
    "1. Some people aren't fixed to a timeline for their travels; 33% of searches don't have a check in/out date\n",
    "2. People don't seem too price sensitive OR they start with a general search to understand what properties are available before narrowing their search apeture, as 63% of price filters in searches are unused: \n",
    "2. The vast majority of people visiting Dublin don't seem to do too much research into the neighborhoods; 96% of searches don't included a neighborhood filter\n"
   ]
  },
  {
   "cell_type": "code",
   "execution_count": 43,
   "id": "9c6b581c",
   "metadata": {},
   "outputs": [
    {
     "name": "stdout",
     "output_type": "stream",
     "text": [
      "Searches\n",
      "ds                      0.000000\n",
      "id_user                 0.000000\n",
      "ds_checkin              0.331561\n",
      "ds_checkout             0.331561\n",
      "n_searches              0.000000\n",
      "n_nights                0.331561\n",
      "n_guests_min            0.000000\n",
      "n_guests_max            0.000000\n",
      "origin_country          0.000000\n",
      "filter_price_min        0.627221\n",
      "filter_price_max        0.627221\n",
      "filter_room_types       0.546940\n",
      "filter_neighborhoods    0.962336\n",
      "dtype: float64\n"
     ]
    }
   ],
   "source": [
    "# Find % of null values in datasets \n",
    "print('Searches')\n",
    "print(searches.isna().sum()/len(searches))"
   ]
  },
  {
   "cell_type": "markdown",
   "id": "05d00beb",
   "metadata": {},
   "source": [
    "### Searches table target audience profile: The Dublin marketplace attracts somewhat spur of the moment solo travelers or couples (romatic or platonic) from Americans and Europe \n",
    "1. The median search is ~0.9 months ahead of the planned arrival time, and the average is ~1.7 months in advance (average is skewed by bookings well over a year out). This suggests posting changes must be incorporated about 2 months in advance\n",
    "2. Searchers primarily hail from Ireland (22% of searchers), the US (19%), Great Britain (16%), or France (12%). Given Hosts may be looking up their own properties to ensure their postings look good, we can hypothesize that the Dublin marketplace attracts Americans and Europeans within a few hours flight. \n",
    "3. The Interquartile range of min/max guests was 1-2 persons, and the IQR of stay duration was 2-5 nights, which indicates advertising for the local market is best suited around themes of individual exploration, couples retreats, and friend trips"
   ]
  },
  {
   "cell_type": "code",
   "execution_count": 44,
   "id": "e9b5863c",
   "metadata": {},
   "outputs": [
    {
     "data": {
      "text/html": [
       "<div>\n",
       "<style scoped>\n",
       "    .dataframe tbody tr th:only-of-type {\n",
       "        vertical-align: middle;\n",
       "    }\n",
       "\n",
       "    .dataframe tbody tr th {\n",
       "        vertical-align: top;\n",
       "    }\n",
       "\n",
       "    .dataframe thead th {\n",
       "        text-align: right;\n",
       "    }\n",
       "</style>\n",
       "<table border=\"1\" class=\"dataframe\">\n",
       "  <thead>\n",
       "    <tr style=\"text-align: right;\">\n",
       "      <th></th>\n",
       "      <th>n_searches</th>\n",
       "      <th>n_nights</th>\n",
       "      <th>n_guests_min</th>\n",
       "      <th>n_guests_max</th>\n",
       "      <th>filter_price_min</th>\n",
       "      <th>filter_price_max</th>\n",
       "    </tr>\n",
       "  </thead>\n",
       "  <tbody>\n",
       "    <tr>\n",
       "      <th>count</th>\n",
       "      <td>35737.000000</td>\n",
       "      <td>23888.000000</td>\n",
       "      <td>35737.000000</td>\n",
       "      <td>35737.000000</td>\n",
       "      <td>13322.000000</td>\n",
       "      <td>1.332200e+04</td>\n",
       "    </tr>\n",
       "    <tr>\n",
       "      <th>mean</th>\n",
       "      <td>9.206565</td>\n",
       "      <td>7.672765</td>\n",
       "      <td>1.742955</td>\n",
       "      <td>2.105857</td>\n",
       "      <td>8.470200</td>\n",
       "      <td>9.019063e+07</td>\n",
       "    </tr>\n",
       "    <tr>\n",
       "      <th>std</th>\n",
       "      <td>17.348746</td>\n",
       "      <td>21.557614</td>\n",
       "      <td>1.460440</td>\n",
       "      <td>1.817358</td>\n",
       "      <td>53.987679</td>\n",
       "      <td>2.978482e+08</td>\n",
       "    </tr>\n",
       "    <tr>\n",
       "      <th>min</th>\n",
       "      <td>1.000000</td>\n",
       "      <td>0.000000</td>\n",
       "      <td>1.000000</td>\n",
       "      <td>1.000000</td>\n",
       "      <td>0.000000</td>\n",
       "      <td>9.000000e+00</td>\n",
       "    </tr>\n",
       "    <tr>\n",
       "      <th>25%</th>\n",
       "      <td>1.000000</td>\n",
       "      <td>2.000000</td>\n",
       "      <td>1.000000</td>\n",
       "      <td>1.000000</td>\n",
       "      <td>0.000000</td>\n",
       "      <td>8.600000e+01</td>\n",
       "    </tr>\n",
       "    <tr>\n",
       "      <th>50%</th>\n",
       "      <td>4.000000</td>\n",
       "      <td>3.000000</td>\n",
       "      <td>1.000000</td>\n",
       "      <td>2.000000</td>\n",
       "      <td>0.000000</td>\n",
       "      <td>1.390000e+02</td>\n",
       "    </tr>\n",
       "    <tr>\n",
       "      <th>75%</th>\n",
       "      <td>10.000000</td>\n",
       "      <td>5.000000</td>\n",
       "      <td>2.000000</td>\n",
       "      <td>2.000000</td>\n",
       "      <td>0.000000</td>\n",
       "      <td>3.010000e+02</td>\n",
       "    </tr>\n",
       "    <tr>\n",
       "      <th>max</th>\n",
       "      <td>448.000000</td>\n",
       "      <td>399.000000</td>\n",
       "      <td>16.000000</td>\n",
       "      <td>16.000000</td>\n",
       "      <td>1250.000000</td>\n",
       "      <td>1.073742e+09</td>\n",
       "    </tr>\n",
       "  </tbody>\n",
       "</table>\n",
       "</div>"
      ],
      "text/plain": [
       "         n_searches      n_nights  n_guests_min  n_guests_max  \\\n",
       "count  35737.000000  23888.000000  35737.000000  35737.000000   \n",
       "mean       9.206565      7.672765      1.742955      2.105857   \n",
       "std       17.348746     21.557614      1.460440      1.817358   \n",
       "min        1.000000      0.000000      1.000000      1.000000   \n",
       "25%        1.000000      2.000000      1.000000      1.000000   \n",
       "50%        4.000000      3.000000      1.000000      2.000000   \n",
       "75%       10.000000      5.000000      2.000000      2.000000   \n",
       "max      448.000000    399.000000     16.000000     16.000000   \n",
       "\n",
       "       filter_price_min  filter_price_max  \n",
       "count      13322.000000      1.332200e+04  \n",
       "mean           8.470200      9.019063e+07  \n",
       "std           53.987679      2.978482e+08  \n",
       "min            0.000000      9.000000e+00  \n",
       "25%            0.000000      8.600000e+01  \n",
       "50%            0.000000      1.390000e+02  \n",
       "75%            0.000000      3.010000e+02  \n",
       "max         1250.000000      1.073742e+09  "
      ]
     },
     "execution_count": 44,
     "metadata": {},
     "output_type": "execute_result"
    }
   ],
   "source": [
    "# overall summary table to get a sense of what the quantitative metrics say\n",
    "searches.describe()"
   ]
  },
  {
   "cell_type": "code",
   "execution_count": 45,
   "id": "3062d544",
   "metadata": {},
   "outputs": [
    {
     "data": {
      "image/png": "[encoded data removed]",
      "text/plain": [
       "<Figure size 500x500 with 1 Axes>"
      ]
     },
     "metadata": {},
     "output_type": "display_data"
    }
   ],
   "source": [
    "# Graph showing how far in advance searches happen\n",
    "\n",
    "searches['time_before_arrival'] = searches['ds_checkin'] - searches['ds']\n",
    "searches['time_before_arrival'] = searches['time_before_arrival'].dt.days/30\n",
    "\n",
    "sns.displot(data = searches[searches['time_before_arrival']<15]['time_before_arrival'], binwidth = 1).set(title = 'Months Before Arrival', \\\n",
    "    xlabel = 'Months', ylabel = 'Number of searches')\n",
    "plt.show()"
   ]
  },
  {
   "cell_type": "code",
   "execution_count": 46,
   "id": "ddc934aa",
   "metadata": {},
   "outputs": [
    {
     "name": "stdout",
     "output_type": "stream",
     "text": [
      " Median number of months before arrival:  0.8666666666666667 \n",
      " Average number of months before arrival:  1.7113864701941912\n"
     ]
    }
   ],
   "source": [
    "#Numeric represenation of typical time before arrival in search\n",
    "\n",
    "print(' Median number of months before arrival: ', searches['time_before_arrival'].median(), \n",
    "      '\\n', 'Average number of months before arrival: ', searches['time_before_arrival'].mean())"
   ]
  },
  {
   "cell_type": "code",
   "execution_count": 47,
   "id": "d1870659",
   "metadata": {},
   "outputs": [
    {
     "data": {
      "text/html": [
       "<div>\n",
       "<style scoped>\n",
       "    .dataframe tbody tr th:only-of-type {\n",
       "        vertical-align: middle;\n",
       "    }\n",
       "\n",
       "    .dataframe tbody tr th {\n",
       "        vertical-align: top;\n",
       "    }\n",
       "\n",
       "    .dataframe thead th {\n",
       "        text-align: right;\n",
       "    }\n",
       "</style>\n",
       "<table border=\"1\" class=\"dataframe\">\n",
       "  <thead>\n",
       "    <tr style=\"text-align: right;\">\n",
       "      <th></th>\n",
       "      <th>num_visitors</th>\n",
       "      <th>num_visitors</th>\n",
       "    </tr>\n",
       "    <tr>\n",
       "      <th>origin_country</th>\n",
       "      <th></th>\n",
       "      <th></th>\n",
       "    </tr>\n",
       "  </thead>\n",
       "  <tbody>\n",
       "    <tr>\n",
       "      <th>IE</th>\n",
       "      <td>6608</td>\n",
       "      <td>0.221396</td>\n",
       "    </tr>\n",
       "    <tr>\n",
       "      <th>US</th>\n",
       "      <td>5811</td>\n",
       "      <td>0.194693</td>\n",
       "    </tr>\n",
       "    <tr>\n",
       "      <th>GB</th>\n",
       "      <td>4832</td>\n",
       "      <td>0.161892</td>\n",
       "    </tr>\n",
       "    <tr>\n",
       "      <th>FR</th>\n",
       "      <td>3444</td>\n",
       "      <td>0.115388</td>\n",
       "    </tr>\n",
       "    <tr>\n",
       "      <th>IT</th>\n",
       "      <td>2333</td>\n",
       "      <td>0.078165</td>\n",
       "    </tr>\n",
       "    <tr>\n",
       "      <th>DE</th>\n",
       "      <td>2170</td>\n",
       "      <td>0.072704</td>\n",
       "    </tr>\n",
       "    <tr>\n",
       "      <th>ES</th>\n",
       "      <td>1759</td>\n",
       "      <td>0.058934</td>\n",
       "    </tr>\n",
       "    <tr>\n",
       "      <th>CA</th>\n",
       "      <td>1085</td>\n",
       "      <td>0.036352</td>\n",
       "    </tr>\n",
       "    <tr>\n",
       "      <th>AU</th>\n",
       "      <td>962</td>\n",
       "      <td>0.032231</td>\n",
       "    </tr>\n",
       "    <tr>\n",
       "      <th>NL</th>\n",
       "      <td>843</td>\n",
       "      <td>0.028244</td>\n",
       "    </tr>\n",
       "  </tbody>\n",
       "</table>\n",
       "</div>"
      ],
      "text/plain": [
       "                num_visitors  num_visitors\n",
       "origin_country                            \n",
       "IE                      6608      0.221396\n",
       "US                      5811      0.194693\n",
       "GB                      4832      0.161892\n",
       "FR                      3444      0.115388\n",
       "IT                      2333      0.078165\n",
       "DE                      2170      0.072704\n",
       "ES                      1759      0.058934\n",
       "CA                      1085      0.036352\n",
       "AU                       962      0.032231\n",
       "NL                       843      0.028244"
      ]
     },
     "execution_count": 47,
     "metadata": {},
     "output_type": "execute_result"
    }
   ],
   "source": [
    "#Table of searches to understand where customers are coming from\n",
    "\n",
    "country = searches.groupby(by = 'origin_country')\n",
    "\n",
    "country_cts = (country.agg({'origin_country':'count'})\n",
    "    .rename(columns = {'origin_country':'num_visitors'})\n",
    "    .sort_values(by = 'num_visitors', ascending = False)).head(10)\n",
    "\n",
    "\n",
    "total = country_cts['num_visitors'].sum()\n",
    "country_perc = (country_cts['num_visitors']/total).to_frame()\n",
    "\n",
    "country_split = pd.concat(objs = [country_cts,country_perc], axis = 1)\n",
    "\n",
    "country_split\n"
   ]
  },
  {
   "cell_type": "code",
   "execution_count": 48,
   "id": "1099f645",
   "metadata": {},
   "outputs": [
    {
     "data": {
      "image/png": "[encoded data removed]",
      "text/plain": [
       "<Figure size 500x500 with 1 Axes>"
      ]
     },
     "metadata": {},
     "output_type": "display_data"
    },
    {
     "data": {
      "image/png": "[encoded data removed]",
      "text/plain": [
       "<Figure size 500x500 with 1 Axes>"
      ]
     },
     "metadata": {},
     "output_type": "display_data"
    }
   ],
   "source": [
    "#Distribution plot of n_guests_min and n_guests_max\n",
    "sns.displot(searches, x = 'n_guests_min', color = 'blue')\n",
    "sns.displot(searches, x = 'n_guests_max', color = 'black')\n",
    "plt.show()"
   ]
  },
  {
   "cell_type": "markdown",
   "id": "d777c5a7",
   "metadata": {},
   "source": [
    "### Searches table target audience needs: These travelers are typically looking for cheap, weekend stays with some privacy \n",
    "\n",
    "1. The median price/night in price bound searches was 139 dollars/night\n",
    "2. Stays within the Thursday - Monday range (3 days or less) represented the top 5 search ranges, and 29% of all date bound searches\n",
    "3. Most of the searchers wanted and entire apartment/house or private room"
   ]
  },
  {
   "cell_type": "code",
   "execution_count": 49,
   "id": "1674b3b0",
   "metadata": {},
   "outputs": [
    {
     "data": {
      "image/png": "[encoded data removed]",
      "text/plain": [
       "<Figure size 500x500 with 1 Axes>"
      ]
     },
     "metadata": {},
     "output_type": "display_data"
    }
   ],
   "source": [
    "#Distribution of prices for searches with outliers removed for visual clarity \n",
    "\n",
    "#Removing the set upper limit\n",
    "searches_maxprice_removed = searches[searches['filter_price_max'] <= 500]\n",
    "\n",
    "#Distribution plot of filter_price_max column\n",
    "sns.displot(x=searches_maxprice_removed[\"filter_price_max\"], color = 'blue')\n",
    "plt.show()"
   ]
  },
  {
   "cell_type": "code",
   "execution_count": 50,
   "id": "0904b675",
   "metadata": {},
   "outputs": [
    {
     "name": "stderr",
     "output_type": "stream",
     "text": [
      "C:\\Users\\hwoo2\\AppData\\Local\\Temp\\ipykernel_22380\\1145123011.py:9: SettingWithCopyWarning: \n",
      "A value is trying to be set on a copy of a slice from a DataFrame.\n",
      "Try using .loc[row_indexer,col_indexer] = value instead\n",
      "\n",
      "See the caveats in the documentation: https://pandas.pydata.org/pandas-docs/stable/user_guide/indexing.html#returning-a-view-versus-a-copy\n",
      "  stay_days['days_stayed'] = stay_days['n_nights'].astype('str') + ': ' + checkins + ' - ' + checkouts\n"
     ]
    },
    {
     "data": {
      "text/plain": [
       "2.0: Friday - Sunday       0.097329\n",
       "3.0: Friday - Monday       0.060951\n",
       "1.0: Saturday - Sunday     0.048183\n",
       "3.0: Thursday - Sunday     0.045002\n",
       "2.0: Saturday - Monday     0.034452\n",
       "4.0: Monday - Friday       0.032527\n",
       "1.0: Friday - Saturday     0.029136\n",
       "3.0: Saturday - Tuesday    0.027545\n",
       "4.0: Thursday - Monday     0.023275\n",
       "3.0: Tuesday - Friday      0.022438\n",
       "Name: days_stayed, dtype: float64"
      ]
     },
     "execution_count": 50,
     "metadata": {},
     "output_type": "execute_result"
    }
   ],
   "source": [
    "# Table showing top day ranges for stays\n",
    "\n",
    "stay_days = searches.dropna(subset=['ds_checkin', 'ds_checkout'])\n",
    "\n",
    "checkins = stay_days['ds_checkin'].dt.day_name()\n",
    "checkouts = stay_days['ds_checkout'].dt.day_name()\n",
    "\n",
    "\n",
    "stay_days['days_stayed'] = stay_days['n_nights'].astype('str') + ': ' + checkins + ' - ' + checkouts\n",
    "\n",
    "stay_days['days_stayed'].value_counts(normalize = True).sort_values(ascending = False).head(10)"
   ]
  },
  {
   "cell_type": "code",
   "execution_count": 51,
   "id": "1d8f8b42",
   "metadata": {},
   "outputs": [
    {
     "data": {
      "text/plain": [
       ",Entire home/apt                                              6331\n",
       "Entire home/apt                                               3667\n",
       ",Private room                                                 1693\n",
       "Private room                                                  1147\n",
       ",Entire home/apt,Entire home/apt,Private room                  415\n",
       "Entire home/apt,Private room                                   379\n",
       ",Entire home/apt,Entire home/apt,Private room,Private room     370\n",
       ",Entire home/apt,Private room                                  365\n",
       ",Entire home/apt,Private room,Private room                     230\n",
       ",Private room,Entire home/apt                                  137\n",
       "Name: filter_room_types, dtype: int64"
      ]
     },
     "execution_count": 51,
     "metadata": {},
     "output_type": "execute_result"
    }
   ],
   "source": [
    "#Types of rooms searched for\n",
    "\n",
    "searches['filter_room_types'].dropna().value_counts().head(10)"
   ]
  },
  {
   "cell_type": "markdown",
   "id": "e8c8678a",
   "metadata": {},
   "source": [
    "### Contacts table overview: Hosts only accept about 50% of inquiries which come mostly from parties of 1-2 people\n",
    "\n",
    "1. Hosts are somewhat selective of the potential residents who inquire; only 28% of initial inquries result in a booking of that property. This rate is primarily due to hosts only accepting 50% of the inquiries, and ~60% of those inquirers actually booking\n",
    "2. Inquiries tend to come from couples; 44% of inquiries came from parties of 2, and 27% came from parties of 1"
   ]
  },
  {
   "cell_type": "code",
   "execution_count": 52,
   "id": "19c4997f",
   "metadata": {},
   "outputs": [
    {
     "name": "stdout",
     "output_type": "stream",
     "text": [
      "Contacts\n",
      "id_guest          0.000000\n",
      "id_host           0.000000\n",
      "id_listing        0.000000\n",
      "ts_contact_at     0.000000\n",
      "ts_reply_at       0.077208\n",
      "ts_accepted_at    0.536367\n",
      "ts_booking_at     0.722101\n",
      "ds_checkin        0.000000\n",
      "ds_checkout       0.000000\n",
      "n_guests          0.000000\n",
      "n_messages        0.000000\n",
      "dtype: float64\n",
      "\n",
      "\n"
     ]
    }
   ],
   "source": [
    "# Find % of null values in datasets \n",
    "print('Contacts')\n",
    "print(contacts.isna().sum()/len(contacts))\n",
    "\n",
    "print('\\n')\n"
   ]
  },
  {
   "cell_type": "code",
   "execution_count": 53,
   "id": "592d373f",
   "metadata": {},
   "outputs": [
    {
     "data": {
      "text/plain": [
       "id_guest                   object\n",
       "id_host                    object\n",
       "id_listing                 object\n",
       "ts_contact_at      datetime64[ns]\n",
       "ts_reply_at        datetime64[ns]\n",
       "ts_accepted_at     datetime64[ns]\n",
       "ts_booking_at      datetime64[ns]\n",
       "ds_checkin         datetime64[ns]\n",
       "ds_checkout        datetime64[ns]\n",
       "n_guests                    int64\n",
       "n_messages                  int64\n",
       "accepted                     bool\n",
       "length_stay       timedelta64[ns]\n",
       "dtype: object"
      ]
     },
     "metadata": {},
     "output_type": "display_data"
    },
    {
     "data": {
      "text/html": [
       "<div>\n",
       "<style scoped>\n",
       "    .dataframe tbody tr th:only-of-type {\n",
       "        vertical-align: middle;\n",
       "    }\n",
       "\n",
       "    .dataframe tbody tr th {\n",
       "        vertical-align: top;\n",
       "    }\n",
       "\n",
       "    .dataframe thead th {\n",
       "        text-align: right;\n",
       "    }\n",
       "</style>\n",
       "<table border=\"1\" class=\"dataframe\">\n",
       "  <thead>\n",
       "    <tr style=\"text-align: right;\">\n",
       "      <th></th>\n",
       "      <th>n_guests</th>\n",
       "      <th>n_messages</th>\n",
       "      <th>length_stay</th>\n",
       "    </tr>\n",
       "  </thead>\n",
       "  <tbody>\n",
       "    <tr>\n",
       "      <th>count</th>\n",
       "      <td>7823.000000</td>\n",
       "      <td>7823.000000</td>\n",
       "      <td>7823</td>\n",
       "    </tr>\n",
       "    <tr>\n",
       "      <th>mean</th>\n",
       "      <td>2.422600</td>\n",
       "      <td>6.319954</td>\n",
       "      <td>5 days 19:25:32.864629937</td>\n",
       "    </tr>\n",
       "    <tr>\n",
       "      <th>std</th>\n",
       "      <td>1.617347</td>\n",
       "      <td>6.472827</td>\n",
       "      <td>14 days 23:45:24.447710564</td>\n",
       "    </tr>\n",
       "    <tr>\n",
       "      <th>min</th>\n",
       "      <td>1.000000</td>\n",
       "      <td>1.000000</td>\n",
       "      <td>1 days 00:00:00</td>\n",
       "    </tr>\n",
       "    <tr>\n",
       "      <th>25%</th>\n",
       "      <td>1.000000</td>\n",
       "      <td>2.000000</td>\n",
       "      <td>2 days 00:00:00</td>\n",
       "    </tr>\n",
       "    <tr>\n",
       "      <th>50%</th>\n",
       "      <td>2.000000</td>\n",
       "      <td>4.000000</td>\n",
       "      <td>3 days 00:00:00</td>\n",
       "    </tr>\n",
       "    <tr>\n",
       "      <th>75%</th>\n",
       "      <td>3.000000</td>\n",
       "      <td>8.000000</td>\n",
       "      <td>5 days 00:00:00</td>\n",
       "    </tr>\n",
       "    <tr>\n",
       "      <th>max</th>\n",
       "      <td>16.000000</td>\n",
       "      <td>102.000000</td>\n",
       "      <td>334 days 00:00:00</td>\n",
       "    </tr>\n",
       "  </tbody>\n",
       "</table>\n",
       "</div>"
      ],
      "text/plain": [
       "          n_guests   n_messages                 length_stay\n",
       "count  7823.000000  7823.000000                        7823\n",
       "mean      2.422600     6.319954   5 days 19:25:32.864629937\n",
       "std       1.617347     6.472827  14 days 23:45:24.447710564\n",
       "min       1.000000     1.000000             1 days 00:00:00\n",
       "25%       1.000000     2.000000             2 days 00:00:00\n",
       "50%       2.000000     4.000000             3 days 00:00:00\n",
       "75%       3.000000     8.000000             5 days 00:00:00\n",
       "max      16.000000   102.000000           334 days 00:00:00"
      ]
     },
     "metadata": {},
     "output_type": "display_data"
    }
   ],
   "source": [
    "#Manipulation of contacts dataset\n",
    "\n",
    "#Convert date columns to datetime data type \n",
    "contacts['ts_contact_at'] = pd.to_datetime(contacts['ts_contact_at'])\n",
    "contacts['ts_reply_at'] = pd.to_datetime(contacts['ts_reply_at'])\n",
    "contacts['ts_accepted_at'] = pd.to_datetime(contacts['ts_accepted_at'])\n",
    "contacts['ts_booking_at'] = pd.to_datetime(contacts['ts_booking_at'])\n",
    "contacts['ds_checkin'] = pd.to_datetime(contacts['ds_checkin'])\n",
    "contacts['ds_checkout'] = pd.to_datetime(contacts['ds_checkout'])\n",
    "contacts['accepted'] = np.where(np.isnan(contacts['ts_accepted_at']), False, True)\n",
    "\n",
    "contacts['length_stay'] = contacts['ds_checkout'] - contacts['ds_checkin']\n",
    "\n",
    "#Understand dataset\n",
    "display(contacts.dtypes)\n",
    "display(contacts.describe())"
   ]
  },
  {
   "cell_type": "code",
   "execution_count": 54,
   "id": "b56fbc77",
   "metadata": {},
   "outputs": [
    {
     "name": "stdout",
     "output_type": "stream",
     "text": [
      "0.9227917678639908\n",
      "0.5024241584707023\n",
      "0.5993934381031155\n",
      "0.27789850441007286\n"
     ]
    }
   ],
   "source": [
    "#conversion rate in pipeline from initial outreach to booking\n",
    "\n",
    "#contact to reply\n",
    "print(contacts['ts_reply_at'].count() / contacts['ts_contact_at'].count())\n",
    "\n",
    "#reply to accept\n",
    "print(contacts['ts_accepted_at'].count() / contacts['ts_reply_at'].count())\n",
    "\n",
    "#accept to book\n",
    "print(contacts['ts_booking_at'].count() / contacts['ts_accepted_at'].count())\n",
    "\n",
    "#outreach to booking\n",
    "print(contacts['ts_booking_at'].count() / contacts['ts_contact_at'].count())"
   ]
  },
  {
   "cell_type": "code",
   "execution_count": 55,
   "id": "bdae1125",
   "metadata": {},
   "outputs": [
    {
     "data": {
      "text/plain": [
       "2     0.442541\n",
       "1     0.270229\n",
       "4     0.111211\n",
       "3     0.089480\n",
       "6     0.035025\n",
       "5     0.029017\n",
       "7     0.007925\n",
       "8     0.007031\n",
       "10    0.003068\n",
       "12    0.001917\n",
       "16    0.000639\n",
       "11    0.000639\n",
       "15    0.000511\n",
       "13    0.000383\n",
       "9     0.000383\n",
       "Name: n_guests, dtype: float64"
      ]
     },
     "execution_count": 55,
     "metadata": {},
     "output_type": "execute_result"
    }
   ],
   "source": [
    "contacts['n_guests'].value_counts(normalize = True)"
   ]
  },
  {
   "cell_type": "markdown",
   "id": "cacbced1",
   "metadata": {},
   "source": [
    "### Supply and Demand interactions: There is uncaptured downstream market demand for singles and couples during Q4 of the year\n",
    "1. There doesn't seem to be enough supply to meet demand for parties with a size of 1-2; the number of accepted inquiries was significantly lower than the number of inquries for n_guests = 1 or 2. This represents uncaptured potential revenue \n",
    "2. Peak season is October - December, and it seems like there's a shortfall in supply in October, as there is a significantly higher number of non-acceptances than acceptances in this month. May need to investigate further to discern if it's because owners can't bring supply to market in October, or they aren't aware of the demand in October, and only are reacting to the shortfall and upping supply by following month\n",
    "3. Under 100 dollars a night, there's significantly more demand than supply. This could stem from some combination of different operations challenges (i.e., it's not worth the management hassle for hosts relative to their margins from charging 100 dollars/day) or operating cost constraints (i.e., the properties currently on the market aren't suited for low priced stays)"
   ]
  },
  {
   "cell_type": "code",
   "execution_count": 56,
   "id": "5c5d2de4",
   "metadata": {
    "scrolled": true
   },
   "outputs": [
    {
     "data": {
      "text/html": [
       "<div>\n",
       "<style scoped>\n",
       "    .dataframe tbody tr th:only-of-type {\n",
       "        vertical-align: middle;\n",
       "    }\n",
       "\n",
       "    .dataframe tbody tr th {\n",
       "        vertical-align: top;\n",
       "    }\n",
       "\n",
       "    .dataframe thead th {\n",
       "        text-align: right;\n",
       "    }\n",
       "</style>\n",
       "<table border=\"1\" class=\"dataframe\">\n",
       "  <thead>\n",
       "    <tr style=\"text-align: right;\">\n",
       "      <th></th>\n",
       "      <th>id_guest</th>\n",
       "      <th>id_host</th>\n",
       "      <th>id_listing</th>\n",
       "      <th>ts_contact_at</th>\n",
       "      <th>ts_reply_at</th>\n",
       "      <th>ts_accepted_at</th>\n",
       "      <th>ts_booking_at</th>\n",
       "      <th>ds_checkin_inquiry</th>\n",
       "      <th>ds_checkout_inquiry</th>\n",
       "      <th>n_guests</th>\n",
       "      <th>...</th>\n",
       "      <th>n_searches</th>\n",
       "      <th>n_nights</th>\n",
       "      <th>n_guests_min</th>\n",
       "      <th>n_guests_max</th>\n",
       "      <th>origin_country</th>\n",
       "      <th>filter_price_min</th>\n",
       "      <th>filter_price_max</th>\n",
       "      <th>filter_room_types</th>\n",
       "      <th>filter_neighborhoods</th>\n",
       "      <th>time_before_arrival</th>\n",
       "    </tr>\n",
       "  </thead>\n",
       "  <tbody>\n",
       "    <tr>\n",
       "      <th>0</th>\n",
       "      <td>000dfad9-459b-4f0b-8310-3d6ab34e4f57</td>\n",
       "      <td>13bb24b8-d432-43a2-9755-5ea11b43bb69</td>\n",
       "      <td>21d2b1a2-fdc3-4b4c-a1f0-0eaf0cc02370</td>\n",
       "      <td>2014-10-04 16:26:28</td>\n",
       "      <td>2014-10-04 16:26:28</td>\n",
       "      <td>2014-10-04 16:26:28</td>\n",
       "      <td>2014-10-04 16:26:28</td>\n",
       "      <td>2014-10-13</td>\n",
       "      <td>2014-10-15</td>\n",
       "      <td>2</td>\n",
       "      <td>...</td>\n",
       "      <td>6</td>\n",
       "      <td>2.0</td>\n",
       "      <td>2</td>\n",
       "      <td>2</td>\n",
       "      <td>CA</td>\n",
       "      <td>0.0</td>\n",
       "      <td>130.0</td>\n",
       "      <td>,Entire home/apt</td>\n",
       "      <td>NaN</td>\n",
       "      <td>0.300000</td>\n",
       "    </tr>\n",
       "    <tr>\n",
       "      <th>1</th>\n",
       "      <td>00197051-c6cb-4c3a-99e9-86615b819874</td>\n",
       "      <td>46aa3897-9c00-4d76-ac66-a307593d0675</td>\n",
       "      <td>fb5ed09a-9848-4f2c-b2ef-34deb62164fb</td>\n",
       "      <td>2014-11-04 09:10:03</td>\n",
       "      <td>2014-11-04 09:45:50</td>\n",
       "      <td>2014-11-04 09:45:50</td>\n",
       "      <td>2014-11-04 12:20:46</td>\n",
       "      <td>2014-11-27</td>\n",
       "      <td>2014-11-30</td>\n",
       "      <td>1</td>\n",
       "      <td>...</td>\n",
       "      <td>13</td>\n",
       "      <td>3.0</td>\n",
       "      <td>1</td>\n",
       "      <td>1</td>\n",
       "      <td>DK</td>\n",
       "      <td>0.0</td>\n",
       "      <td>336.0</td>\n",
       "      <td>,Entire home/apt,Private room,Private room</td>\n",
       "      <td>NaN</td>\n",
       "      <td>1.466667</td>\n",
       "    </tr>\n",
       "    <tr>\n",
       "      <th>2</th>\n",
       "      <td>0027538e-aa9e-4a02-8979-b8397e5d4cba</td>\n",
       "      <td>6bbb88ca-db66-48c5-9c4b-862f7706284a</td>\n",
       "      <td>d3871da6-8012-4dc4-b508-c91f2c10c297</td>\n",
       "      <td>2014-10-10 12:02:50</td>\n",
       "      <td>2014-10-10 15:07:01</td>\n",
       "      <td>NaT</td>\n",
       "      <td>NaT</td>\n",
       "      <td>2014-10-17</td>\n",
       "      <td>2014-10-19</td>\n",
       "      <td>2</td>\n",
       "      <td>...</td>\n",
       "      <td>21</td>\n",
       "      <td>2.0</td>\n",
       "      <td>2</td>\n",
       "      <td>2</td>\n",
       "      <td>CY</td>\n",
       "      <td>0.0</td>\n",
       "      <td>1258.0</td>\n",
       "      <td>,Entire home/apt,Entire home/apt,Private room,...</td>\n",
       "      <td>NaN</td>\n",
       "      <td>0.266667</td>\n",
       "    </tr>\n",
       "    <tr>\n",
       "      <th>3</th>\n",
       "      <td>0027538e-aa9e-4a02-8979-b8397e5d4cba</td>\n",
       "      <td>6bbb88ca-db66-48c5-9c4b-862f7706284a</td>\n",
       "      <td>d3871da6-8012-4dc4-b508-c91f2c10c297</td>\n",
       "      <td>2014-10-10 12:02:50</td>\n",
       "      <td>2014-10-10 15:07:01</td>\n",
       "      <td>NaT</td>\n",
       "      <td>NaT</td>\n",
       "      <td>2014-10-17</td>\n",
       "      <td>2014-10-19</td>\n",
       "      <td>2</td>\n",
       "      <td>...</td>\n",
       "      <td>44</td>\n",
       "      <td>2.0</td>\n",
       "      <td>2</td>\n",
       "      <td>2</td>\n",
       "      <td>CY</td>\n",
       "      <td>0.0</td>\n",
       "      <td>214.0</td>\n",
       "      <td>,Entire home/apt</td>\n",
       "      <td>NaN</td>\n",
       "      <td>0.233333</td>\n",
       "    </tr>\n",
       "    <tr>\n",
       "      <th>4</th>\n",
       "      <td>0027538e-aa9e-4a02-8979-b8397e5d4cba</td>\n",
       "      <td>8772bc85-a9b7-4d85-a52d-41f3620c2912</td>\n",
       "      <td>0d9b5583-8053-4b67-adfe-8c29eb12efed</td>\n",
       "      <td>2014-10-10 15:23:53</td>\n",
       "      <td>NaT</td>\n",
       "      <td>NaT</td>\n",
       "      <td>NaT</td>\n",
       "      <td>2014-10-17</td>\n",
       "      <td>2014-10-19</td>\n",
       "      <td>2</td>\n",
       "      <td>...</td>\n",
       "      <td>21</td>\n",
       "      <td>2.0</td>\n",
       "      <td>2</td>\n",
       "      <td>2</td>\n",
       "      <td>CY</td>\n",
       "      <td>0.0</td>\n",
       "      <td>1258.0</td>\n",
       "      <td>,Entire home/apt,Entire home/apt,Private room,...</td>\n",
       "      <td>NaN</td>\n",
       "      <td>0.266667</td>\n",
       "    </tr>\n",
       "  </tbody>\n",
       "</table>\n",
       "<p>5 rows × 27 columns</p>\n",
       "</div>"
      ],
      "text/plain": [
       "                               id_guest                               id_host  \\\n",
       "0  000dfad9-459b-4f0b-8310-3d6ab34e4f57  13bb24b8-d432-43a2-9755-5ea11b43bb69   \n",
       "1  00197051-c6cb-4c3a-99e9-86615b819874  46aa3897-9c00-4d76-ac66-a307593d0675   \n",
       "2  0027538e-aa9e-4a02-8979-b8397e5d4cba  6bbb88ca-db66-48c5-9c4b-862f7706284a   \n",
       "3  0027538e-aa9e-4a02-8979-b8397e5d4cba  6bbb88ca-db66-48c5-9c4b-862f7706284a   \n",
       "4  0027538e-aa9e-4a02-8979-b8397e5d4cba  8772bc85-a9b7-4d85-a52d-41f3620c2912   \n",
       "\n",
       "                             id_listing       ts_contact_at  \\\n",
       "0  21d2b1a2-fdc3-4b4c-a1f0-0eaf0cc02370 2014-10-04 16:26:28   \n",
       "1  fb5ed09a-9848-4f2c-b2ef-34deb62164fb 2014-11-04 09:10:03   \n",
       "2  d3871da6-8012-4dc4-b508-c91f2c10c297 2014-10-10 12:02:50   \n",
       "3  d3871da6-8012-4dc4-b508-c91f2c10c297 2014-10-10 12:02:50   \n",
       "4  0d9b5583-8053-4b67-adfe-8c29eb12efed 2014-10-10 15:23:53   \n",
       "\n",
       "          ts_reply_at      ts_accepted_at       ts_booking_at  \\\n",
       "0 2014-10-04 16:26:28 2014-10-04 16:26:28 2014-10-04 16:26:28   \n",
       "1 2014-11-04 09:45:50 2014-11-04 09:45:50 2014-11-04 12:20:46   \n",
       "2 2014-10-10 15:07:01                 NaT                 NaT   \n",
       "3 2014-10-10 15:07:01                 NaT                 NaT   \n",
       "4                 NaT                 NaT                 NaT   \n",
       "\n",
       "  ds_checkin_inquiry ds_checkout_inquiry  n_guests  ...  n_searches  n_nights  \\\n",
       "0         2014-10-13          2014-10-15         2  ...           6       2.0   \n",
       "1         2014-11-27          2014-11-30         1  ...          13       3.0   \n",
       "2         2014-10-17          2014-10-19         2  ...          21       2.0   \n",
       "3         2014-10-17          2014-10-19         2  ...          44       2.0   \n",
       "4         2014-10-17          2014-10-19         2  ...          21       2.0   \n",
       "\n",
       "  n_guests_min n_guests_max origin_country filter_price_min filter_price_max  \\\n",
       "0            2            2             CA              0.0            130.0   \n",
       "1            1            1             DK              0.0            336.0   \n",
       "2            2            2             CY              0.0           1258.0   \n",
       "3            2            2             CY              0.0            214.0   \n",
       "4            2            2             CY              0.0           1258.0   \n",
       "\n",
       "                                   filter_room_types  filter_neighborhoods  \\\n",
       "0                                   ,Entire home/apt                   NaN   \n",
       "1         ,Entire home/apt,Private room,Private room                   NaN   \n",
       "2  ,Entire home/apt,Entire home/apt,Private room,...                   NaN   \n",
       "3                                   ,Entire home/apt                   NaN   \n",
       "4  ,Entire home/apt,Entire home/apt,Private room,...                   NaN   \n",
       "\n",
       "   time_before_arrival  \n",
       "0             0.300000  \n",
       "1             1.466667  \n",
       "2             0.266667  \n",
       "3             0.233333  \n",
       "4             0.266667  \n",
       "\n",
       "[5 rows x 27 columns]"
      ]
     },
     "execution_count": 56,
     "metadata": {},
     "output_type": "execute_result"
    }
   ],
   "source": [
    "agg = contacts.merge(searches, left_on = 'id_guest', right_on = 'id_user', suffixes = ('_inquiry','_search'))\n",
    "agg.head()"
   ]
  },
  {
   "cell_type": "code",
   "execution_count": 57,
   "id": "4fb578d6",
   "metadata": {},
   "outputs": [
    {
     "name": "stdout",
     "output_type": "stream",
     "text": [
      "Average guests contacted:  2.42260002556564\n"
     ]
    },
    {
     "data": {
      "image/png": "[encoded data removed]",
      "text/plain": [
       "<Figure size 584.875x500 with 1 Axes>"
      ]
     },
     "metadata": {},
     "output_type": "display_data"
    }
   ],
   "source": [
    "# show inquiries vs accepted, cutting out outliers to make visual clearer\n",
    "\n",
    "sns.displot(contacts[contacts['n_guests'] <= 6], x = 'n_guests', hue = 'accepted', multiple = 'dodge')\n",
    "print('Average guests contacted: ',contacts['n_guests'].mean())"
   ]
  },
  {
   "cell_type": "code",
   "execution_count": 59,
   "id": "f6bc2e53",
   "metadata": {},
   "outputs": [
    {
     "data": {
      "image/png": "[encoded data removed]",
      "text/plain": [
       "<Figure size 584.875x500 with 1 Axes>"
      ]
     },
     "metadata": {},
     "output_type": "display_data"
    }
   ],
   "source": [
    "#What does demand/supply look like over time\n",
    "\n",
    "contacts['month_checkin'] = contacts['ds_checkin'].dt.month #Extract month from checkin date\n",
    "\n",
    "contacts_checkin = contacts[contacts['month_checkin'] > 9]\n",
    "\n",
    "#Peak season checkings\n",
    "sns.displot(contacts_checkin, x='month_checkin', hue = 'accepted', multiple=\"dodge\")\n",
    "plt.xticks([10, 11, 12])\n",
    "plt.show()"
   ]
  },
  {
   "cell_type": "code",
   "execution_count": 60,
   "id": "23f3f982",
   "metadata": {
    "scrolled": true
   },
   "outputs": [
    {
     "data": {
      "image/png": "[encoded data removed]",
      "text/plain": [
       "<Figure size 584.875x500 with 1 Axes>"
      ]
     },
     "metadata": {},
     "output_type": "display_data"
    }
   ],
   "source": [
    "#Check difference between prices searched between accepted/rejected applicants\n",
    "\n",
    "maxprice = agg.loc[(agg['filter_price_max'] <= 300)]\n",
    "\n",
    "sns.displot(maxprice, x=\"filter_price_max\", hue=\"accepted\", multiple=\"dodge\", bins = 10)\n",
    "plt.show()"
   ]
  },
  {
   "cell_type": "markdown",
   "id": "beb6f4ca",
   "metadata": {},
   "source": [
    "### Key next steps from findings\n",
    "1. Understand the current profile of the 1-2 person properties to scope path to adding more properties to suit this party size. There may be an opportunity to encourage more hosts to bring their 1-2 person properties into the Dublin market OR redirect larger properties to split by private room if general housing supply in Dublin is constrained\n",
    "2. Run A/B testing on advertisements for 2-person parties in America and Europe to increase conversion from casual browsing to outright booking by targeting our key demographic groups\n",
    "3. Investigate whether the lack of sub-100 dollar/night properties is due to legitimate host cost constraints, or lack of incentivization to price lower. Potentially consider some sort of kickback program for sub 100 bookings where some of incremental revenue is shared with host to rightsize their margins otherwise"
   ]
  }
 ],
 "metadata": {
  "kernelspec": {
   "display_name": "Python 3 (ipykernel)",
   "language": "python",
   "name": "python3"
  },
  "language_info": {
   "codemirror_mode": {
    "name": "ipython",
    "version": 3
   },
   "file_extension": ".py",
   "mimetype": "text/x-python",
   "name": "python",
   "nbconvert_exporter": "python",
   "pygments_lexer": "ipython3",
   "version": "3.9.13"
  }
 },
 "nbformat": 4,
 "nbformat_minor": 5
}
